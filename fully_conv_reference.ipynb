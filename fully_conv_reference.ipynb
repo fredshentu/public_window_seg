version https://git-lfs.github.com/spec/v1
oid sha256:630a11bb98e3088785c4d84a582e5f0b526f619bccf52209a70d35067a58d358
size 85226470
