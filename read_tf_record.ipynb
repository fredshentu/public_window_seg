{
 "cells": [
  {
   "cell_type": "code",
   "execution_count": 1,
   "metadata": {
    "collapsed": true
   },
   "outputs": [],
   "source": [
    "%matplotlib inline\n",
    "import matplotlib.pyplot as plt\n",
    "import tensorflow as tf\n",
    "import os\n",
    "import numpy as np\n",
    "from data_loader import inputs_poking, inputs_sawyer_data\n",
    "from scipy.misc import imresize\n",
    "from models import build_resnet18_network, build_resnet50_network, rebuild_original_network\n",
    "pos_max = 16.0\n",
    "neg_min = 32.0\n",
    "neg_max = 90.0\n",
    "def plot_msk(img, msk, score, axis):\n",
    "    assert(np.max(img) < 0.51)\n",
    "    assert(np.min(img) > -0.51)\n",
    "    if np.sum(msk) != 0:\n",
    "        msk_unique = np.unique(msk)\n",
    "        assert(msk_unique[0] in [0,1])\n",
    "        assert(msk_unique[1] in [0,1])\n",
    "    image = ((img + 0.5)*255).astype(np.uint8)\n",
    "    msk = imresize(msk, (192, 192))\n",
    "    image[(msk>0).astype(np.bool),0]=255\n",
    "    axis.imshow(image)\n",
    "    axis.set_title(score)\n",
    "    return "
   ]
  },
  {
   "cell_type": "markdown",
   "metadata": {
    "collapsed": true
   },
   "source": [
    "train_sgd_resnet18_lambda_8.00_a_23_b_46_decay_0.00050_lr_factor1.00_msk_ration8-73000: score not that binary, msk okay. model1\n",
    "\n",
    "train_sgd_resnet18_lambda_24.00_a_23_b_46_decay_0.00500_lr_factor1.00_msk_ration24-63000: large weight decay makes score even less binary, msk seems fine. #####but score is still linear separtable/// model2\n",
    "\n",
    "train_sgd_resnet18_lambda_24.00_a_23_b_46_decay_0.00100_lr_factor1.00_msk_ration24-66000: "
   ]
  },
  {
   "cell_type": "code",
   "execution_count": null,
   "metadata": {
    "scrolled": false
   },
   "outputs": [
    {
     "name": "stdout",
     "output_type": "stream",
     "text": [
      "INFO:tensorflow:Restoring parameters from ./models/train_sgd_resnet18_lambda_24.00_a_16_b_32_decay_0.00050_lr_factor1.00_background_False-199000\n",
      "finish building original graph\n",
      "(128,)\n"
     ]
    },
    {
     "data": {
      "image/png": "[encoded data removed]",
      "text/plain": [
       "<matplotlib.figure.Figure at 0x7ff9b458b978>"
      ]
     },
     "metadata": {},
     "output_type": "display_data"
    },
    {
     "data": {
      "image/png": "[encoded data removed]",
      "text/plain": [
       "<matplotlib.figure.Figure at 0x7ff9640b1c50>"
      ]
     },
     "metadata": {},
     "output_type": "display_data"
    },
    {
     "name": "stderr",
     "output_type": "stream",
     "text": [
      "/home/dian/.anaconda3/envs/railrl-dian/lib/python3.5/site-packages/ipykernel_launcher.py:20: DeprecationWarning: `imresize` is deprecated!\n",
      "`imresize` is deprecated in SciPy 1.0.0, and will be removed in 1.2.0.\n",
      "Use ``skimage.transform.resize`` instead.\n",
      "/home/dian/.anaconda3/envs/railrl-dian/lib/python3.5/site-packages/ipykernel_launcher.py:82: DeprecationWarning: `imresize` is deprecated!\n",
      "`imresize` is deprecated in SciPy 1.0.0, and will be removed in 1.2.0.\n",
      "Use ``skimage.transform.resize`` instead.\n",
      "/home/dian/.anaconda3/envs/railrl-dian/lib/python3.5/site-packages/matplotlib/pyplot.py:524: RuntimeWarning: More than 20 figures have been opened. Figures created through the pyplot interface (`matplotlib.pyplot.figure`) are retained until explicitly closed and may consume too much memory. (To control this warning, see the rcParam `figure.max_open_warning`).\n",
      "  max_open_warning, RuntimeWarning)\n"
     ]
    }
   ],
   "source": [
    "###########read sawyer and poking data###########\n",
    "path_poking = '/media/icm_data/poke_nlc_training_new/'\n",
    "train_set_names = list([path_poking + '/' + l for l in os.listdir(path_poking)])\n",
    "\n",
    "path_sawyer = '/media/icm_data/sawyer_data_new'\n",
    "train_set_new_names = list([path_sawyer + '/' + l for l in os.listdir(path_sawyer)])\n",
    "train_set_new_pos_names = list(filter(lambda s: 'pos' in s, train_set_new_names))\n",
    "train_set_new_neg_names = list(filter(lambda s: 'neg' in s, train_set_new_names))\n",
    "\n",
    "addBk = True\n",
    "train_pos_imgs_sawyer, train_pos_masks_sawyer, train_pos_scores_sawyer, pos_bks = \\\n",
    "                                inputs_sawyer_data(train_set_new_pos_names, \"positive\", pos_max,\\\n",
    "                                                                neg_min, neg_max,batch_size = 64, addBg = addBk)\n",
    "train_neg_imgs_sawyer, train_neg_masks_sawyer, train_neg_scores_sawyer, neg_bks = \\\n",
    "                                inputs_sawyer_data(train_set_new_neg_names, \"negative\", pos_max, \\\n",
    "                                                                neg_min, neg_max, batch_size = 32, addBg = addBk)\n",
    "train_neg_from_pos_imgs, train_neg_from_pos_masks, train_neg_from_pos_scores, neg_from_pos_bks= \\\n",
    "                                inputs_sawyer_data(train_set_new_pos_names,\"negative_from_positive\", \\\n",
    "                                                                pos_max, neg_min, neg_max , batch_size = 32, addBg = addBk)\n",
    "\n",
    "\n",
    "train_imgs = tf.concat([train_pos_imgs_sawyer, \\\n",
    "                            train_neg_imgs_sawyer, \\\n",
    "                            train_neg_from_pos_imgs], 0)\n",
    "\n",
    "train_masks = tf.concat([train_pos_masks_sawyer,\\\n",
    "                            train_neg_masks_sawyer,\\\n",
    "                            train_neg_from_pos_masks], 0)\n",
    "\n",
    "train_scores = tf.concat([train_pos_scores_sawyer,\\\n",
    "                            train_neg_scores_sawyer,\\\n",
    "                            train_neg_from_pos_scores], 0)\n",
    "train_bks = tf.concat([pos_bks,\\\n",
    "                            neg_bks,\\\n",
    "                            neg_from_pos_bks], 0)\n",
    "##########build_model########\n",
    "\n",
    "# model_path = \"./models/pretrain_sgd_resnet18_lambda_32.00_a_9_b_16_decay_0.00050-99000\"\n",
    "# model_path = \"./models/train_sgd_resnet18_lambda_16.00_a_23_b_46_decay_0.00050_lr_factor0.10_msk_ratio16-23000\"\n",
    "# model_path = \"./models/train_sgd_resnet18_lambda_32.00_a_23_b_46_decay_0.00050_lr_factor1.00-199000\" #scoring better, msk slightly worse\n",
    "# model_path = \"./models/train_sgd_resnet18_lambda_32.00_a_23_b_46_decay_0.00050_lr_factor0.10-125000\" #really bad score\n",
    "# model_path = \"./models/11_3_morning/train_sgd_resnet18_lambda_24.00_a_23_b_46_decay_0.00500_lr_factor1.00_msk_ration24-193000\"\n",
    "# model_path = \"./models/pretrain_sgd_resnet18_lambda_24.00_a_16_b_32_background_False_decay_0.00050-99000\"\n",
    "model_path = \"./models/train_sgd_resnet18_lambda_24.00_a_16_b_32_decay_0.00050_lr_factor1.00_background_False-199000\"\n",
    "# model_path = \"./models/train_sgd_resnet18_lambda_8.00_a_16_b_32_decay_0.00100_lr_factor1.00_background_True-190000\"\n",
    "# model_path = \"./models/train_sgd_resnet18_lambda_1.00_a_16_b_48_decay_0.00100_lr_factor1.00_background_True-2000\"\n",
    "# model_path = \"./models/train_sgd_resnet18_lambda_0.00_a_16_b_48_decay_0.00100_lr_factor1.00_background_True-1000\"\n",
    "model_type = \"resnet18\"\n",
    "# addBg = True\n",
    "addBg = False\n",
    "\n",
    "img_ph = tf.placeholder(tf.float32, [None, 192, 192, 3])\n",
    "bg_ph = None\n",
    "# bg_ph = tf.placeholder(tf.float32, [None, 160, 160, 3])\n",
    "\n",
    "model_out, sess = rebuild_original_network(img_ph, model_path, model_type, background_ph=bg_ph)\n",
    "\n",
    "##########plot imgs#########\n",
    "sess = tf.Session()\n",
    "coord = tf.train.Coordinator()\n",
    "threads = tf.train.start_queue_runners(sess=sess, coord=coord)\n",
    "\n",
    "train_imgs_out, train_masks_out, train_scores_out, train_bks_out = \\\n",
    "        sess.run([train_imgs, train_masks, train_scores, train_bks])\n",
    "\n",
    "# for train_img, train_msk, train_score, train_bk in zip(train_imgs_out, train_masks_out, train_scores_out, train_bks_out):\n",
    "#     f, (ax1, ax2) = plt.subplots(1,2)\n",
    "#     plot_msk(train_img, train_msk, train_score, ax1)\n",
    "#     train_bk = ((train_bk + 0.5) * 255).astype(np.uint8)\n",
    "#     ax2.imshow(train_bk)\n",
    "#     plt.plot()\n",
    "    \n",
    "    \n",
    "    \n",
    "##########run model#############\n",
    "# model_msks, model_scores = model_out((train_imgs_out + 0.5)*255, background=(train_bks_out+0.5)*255, batch=True)\n",
    "# model_msks, model_scores = model_out((train_imgs_out + 0.5)*255, background=(train_bks_out+0.5)*255, batch=True)\n",
    "model_msks, model_scores = model_out((train_imgs_out + 0.5)*255, background=np.random.random((128,160,160,3))*255, batch=True)\n",
    "model_scores = model_scores[:,-1]\n",
    "model_msks = model_msks[:,:,:,1]\n",
    "\n",
    "print (model_scores.shape)\n",
    "\n",
    "#plot score, see if score is linearly separtable\n",
    "plt.plot(model_scores[:64], np.zeros(64), 'ro')\n",
    "plt.plot(model_scores[64:], np.zeros(64) + 1, 'go')\n",
    "plt.show()\n",
    "plt.hist(model_scores[:64], bins = 20)\n",
    "plt.hist(model_scores[64:], bins = 20)\n",
    "plt.show()\n",
    "\n",
    "for pos_img, pos_mask, pos_scor, model_score, model_msk in zip(train_imgs_out, \\\n",
    "                                train_masks_out, train_scores_out, model_scores, model_msks):\n",
    "    f, (ax1, ax2) = plt.subplots(1,2)\n",
    "    plot_msk(pos_img, pos_mask, pos_scor, ax1)\n",
    "    tmp = ((pos_img.copy()+0.5)*255).astype(np.uint8)\n",
    "    model_msk = (model_msk > 0.6).astype(np.uint8)\n",
    "    model_msk = (imresize(model_msk, (192,192))*255).astype(np.uint8)\n",
    "    tmp[:,:,0] = model_msk\n",
    "    ax2.set_title(\"model_out score {}\".format(model_score))\n",
    "    ax2.imshow(tmp)\n",
    "    plt.plot()\n",
    "coord.request_stop()\n",
    "tf.reset_default_graph()\n",
    "sess.close()"
   ]
  },
  {
   "cell_type": "code",
   "execution_count": 4,
   "metadata": {
    "scrolled": false
   },
   "outputs": [
    {
     "ename": "ValueError",
     "evalue": "Tensor(\"input_1/strided_slice_1:0\", shape=(), dtype=int32) must be from the same graph as Tensor(\"Const:0\", shape=(6,), dtype=float32).",
     "output_type": "error",
     "traceback": [
      "\u001b[0;31m---------------------------------------------------------------------------\u001b[0m",
      "\u001b[0;31mValueError\u001b[0m                                Traceback (most recent call last)",
      "\u001b[0;32m<ipython-input-4-d267f68af54f>\u001b[0m in \u001b[0;36m<module>\u001b[0;34m()\u001b[0m\n\u001b[1;32m      7\u001b[0m \u001b[0;31m# print(file_names)\u001b[0m\u001b[0;34m\u001b[0m\u001b[0;34m\u001b[0m\u001b[0m\n\u001b[1;32m      8\u001b[0m \u001b[0mpos_imgs\u001b[0m\u001b[0;34m,\u001b[0m \u001b[0mpos_masks\u001b[0m\u001b[0;34m,\u001b[0m \u001b[0mpos_scores\u001b[0m\u001b[0;34m,\u001b[0m \u001b[0mpos_bks\u001b[0m \u001b[0;34m=\u001b[0m \u001b[0minputs_poking\u001b[0m\u001b[0;34m(\u001b[0m\u001b[0mfile_names\u001b[0m\u001b[0;34m,\u001b[0m\u001b[0mpos_max\u001b[0m\u001b[0;34m,\u001b[0m\u001b[0mneg_min\u001b[0m\u001b[0;34m,\u001b[0m \u001b[0mneg_max\u001b[0m\u001b[0;34m,\u001b[0m                                                        \u001b[0mbatch_size\u001b[0m \u001b[0;34m=\u001b[0m \u001b[0;36m40\u001b[0m\u001b[0;34m,\u001b[0m\u001b[0mpositive\u001b[0m\u001b[0;34m=\u001b[0m\u001b[0;32mTrue\u001b[0m\u001b[0;34m,\u001b[0m \u001b[0maddBg\u001b[0m \u001b[0;34m=\u001b[0m \u001b[0maddBg\u001b[0m\u001b[0;34m)\u001b[0m\u001b[0;34m\u001b[0m\u001b[0m\n\u001b[0;32m----> 9\u001b[0;31m \u001b[0mneg_imgs\u001b[0m\u001b[0;34m,\u001b[0m \u001b[0mneg_masks\u001b[0m\u001b[0;34m,\u001b[0m \u001b[0mneg_scores\u001b[0m\u001b[0;34m,\u001b[0m \u001b[0mneg_bks\u001b[0m \u001b[0;34m=\u001b[0m \u001b[0minputs_poking\u001b[0m\u001b[0;34m(\u001b[0m\u001b[0mfile_names\u001b[0m\u001b[0;34m,\u001b[0m \u001b[0mpos_max\u001b[0m\u001b[0;34m,\u001b[0m \u001b[0mneg_min\u001b[0m\u001b[0;34m,\u001b[0m \u001b[0mneg_max\u001b[0m\u001b[0;34m,\u001b[0m                                                        \u001b[0mbatch_size\u001b[0m \u001b[0;34m=\u001b[0m \u001b[0;36m40\u001b[0m\u001b[0;34m,\u001b[0m\u001b[0mpositive\u001b[0m\u001b[0;34m=\u001b[0m\u001b[0;32mFalse\u001b[0m\u001b[0;34m,\u001b[0m \u001b[0maddBg\u001b[0m \u001b[0;34m=\u001b[0m \u001b[0maddBg\u001b[0m\u001b[0;34m)\u001b[0m\u001b[0;34m\u001b[0m\u001b[0m\n\u001b[0m\u001b[1;32m     10\u001b[0m \u001b[0;34m\u001b[0m\u001b[0m\n\u001b[1;32m     11\u001b[0m \u001b[0;31m##########plot imgs#########\u001b[0m\u001b[0;34m\u001b[0m\u001b[0;34m\u001b[0m\u001b[0m\n",
      "\u001b[0;32m/media/4tb/dian/window_seg/data_loader.py\u001b[0m in \u001b[0;36minputs_poking\u001b[0;34m(filenames, pos_max, neg_min, neg_max, batch_size, positive, viz, addBg)\u001b[0m\n\u001b[1;32m    139\u001b[0m         \u001b[0;32melse\u001b[0m\u001b[0;34m:\u001b[0m\u001b[0;34m\u001b[0m\u001b[0m\n\u001b[1;32m    140\u001b[0m             image, mask, score, background = read_decode_negative_example_poking(filename_queue, \\\n\u001b[0;32m--> 141\u001b[0;31m                                             neg_min, neg_max, addBg)\n\u001b[0m\u001b[1;32m    142\u001b[0m \u001b[0;34m\u001b[0m\u001b[0m\n\u001b[1;32m    143\u001b[0m         \u001b[0mnum_thread\u001b[0m \u001b[0;34m=\u001b[0m \u001b[0;36m1\u001b[0m \u001b[0;32mif\u001b[0m \u001b[0mviz\u001b[0m \u001b[0;32melse\u001b[0m \u001b[0;36m4\u001b[0m\u001b[0;34m\u001b[0m\u001b[0m\n",
      "\u001b[0;32m/media/4tb/dian/window_seg/data_loader.py\u001b[0m in \u001b[0;36mread_decode_negative_example_poking\u001b[0;34m(filename_queue, neg_shift_min, neg_shift_max, addBg)\u001b[0m\n\u001b[1;32m     92\u001b[0m     \u001b[0mscale1\u001b[0m \u001b[0;34m=\u001b[0m \u001b[0mtf\u001b[0m\u001b[0;34m.\u001b[0m\u001b[0mpow\u001b[0m\u001b[0;34m(\u001b[0m\u001b[0;36m2.0\u001b[0m\u001b[0;34m,\u001b[0m \u001b[0mtf\u001b[0m\u001b[0;34m.\u001b[0m\u001b[0mrandom_uniform\u001b[0m\u001b[0;34m(\u001b[0m\u001b[0;34m[\u001b[0m\u001b[0;36m1\u001b[0m\u001b[0;34m]\u001b[0m\u001b[0;34m,\u001b[0m \u001b[0;34m-\u001b[0m\u001b[0;36m0.25\u001b[0m\u001b[0;34m,\u001b[0m \u001b[0;36m0.25\u001b[0m\u001b[0;34m)\u001b[0m\u001b[0;34m)\u001b[0m\u001b[0;34m[\u001b[0m\u001b[0;36m0\u001b[0m\u001b[0;34m]\u001b[0m\u001b[0;34m\u001b[0m\u001b[0m\n\u001b[1;32m     93\u001b[0m     \u001b[0mscale1\u001b[0m \u001b[0;34m=\u001b[0m \u001b[0mscale1\u001b[0m\u001b[0;34m\u001b[0m\u001b[0m\n\u001b[0;32m---> 94\u001b[0;31m     \u001b[0mscale2\u001b[0m \u001b[0;34m=\u001b[0m \u001b[0mscales\u001b[0m\u001b[0;34m[\u001b[0m\u001b[0mrandom_index\u001b[0m\u001b[0;34m]\u001b[0m\u001b[0;34m\u001b[0m\u001b[0m\n\u001b[0m\u001b[1;32m     95\u001b[0m \u001b[0;34m\u001b[0m\u001b[0m\n\u001b[1;32m     96\u001b[0m     \u001b[0mcoin_flip\u001b[0m \u001b[0;34m=\u001b[0m \u001b[0mtf\u001b[0m\u001b[0;34m.\u001b[0m\u001b[0mrandom_uniform\u001b[0m\u001b[0;34m(\u001b[0m\u001b[0;34m[\u001b[0m\u001b[0;36m1\u001b[0m\u001b[0;34m]\u001b[0m\u001b[0;34m,\u001b[0m \u001b[0mminval\u001b[0m\u001b[0;34m=\u001b[0m\u001b[0;36m0\u001b[0m\u001b[0;34m,\u001b[0m \u001b[0mmaxval\u001b[0m\u001b[0;34m=\u001b[0m\u001b[0;36m1\u001b[0m\u001b[0;34m,\u001b[0m \u001b[0mdtype\u001b[0m\u001b[0;34m=\u001b[0m\u001b[0mtf\u001b[0m\u001b[0;34m.\u001b[0m\u001b[0mfloat32\u001b[0m\u001b[0;34m)\u001b[0m\u001b[0;34m[\u001b[0m\u001b[0;36m0\u001b[0m\u001b[0;34m]\u001b[0m\u001b[0;34m\u001b[0m\u001b[0m\n",
      "\u001b[0;32m~/.anaconda3/envs/railrl-dian/lib/python3.5/site-packages/tensorflow/python/ops/array_ops.py\u001b[0m in \u001b[0;36m_SliceHelper\u001b[0;34m(tensor, slice_spec, var)\u001b[0m\n\u001b[1;32m    509\u001b[0m   \u001b[0;31m# stack possibly involves no tensors, so we must use op_scope correct graph.\u001b[0m\u001b[0;34m\u001b[0m\u001b[0;34m\u001b[0m\u001b[0m\n\u001b[1;32m    510\u001b[0m   with ops.name_scope(None, \"strided_slice\",\n\u001b[0;32m--> 511\u001b[0;31m                       [tensor] + begin + end + strides) as name:\n\u001b[0m\u001b[1;32m    512\u001b[0m     \u001b[0;32mif\u001b[0m \u001b[0mbegin\u001b[0m\u001b[0;34m:\u001b[0m\u001b[0;34m\u001b[0m\u001b[0m\n\u001b[1;32m    513\u001b[0m       packed_begin, packed_end, packed_strides = (stack(begin), stack(end),\n",
      "\u001b[0;32m~/.anaconda3/envs/railrl-dian/lib/python3.5/site-packages/tensorflow/python/framework/ops.py\u001b[0m in \u001b[0;36m__enter__\u001b[0;34m(self)\u001b[0m\n\u001b[1;32m   4926\u001b[0m       \u001b[0;32mif\u001b[0m \u001b[0mself\u001b[0m\u001b[0;34m.\u001b[0m\u001b[0m_values\u001b[0m \u001b[0;32mis\u001b[0m \u001b[0;32mNone\u001b[0m\u001b[0;34m:\u001b[0m\u001b[0;34m\u001b[0m\u001b[0m\n\u001b[1;32m   4927\u001b[0m         \u001b[0mself\u001b[0m\u001b[0;34m.\u001b[0m\u001b[0m_values\u001b[0m \u001b[0;34m=\u001b[0m \u001b[0;34m[\u001b[0m\u001b[0;34m]\u001b[0m\u001b[0;34m\u001b[0m\u001b[0m\n\u001b[0;32m-> 4928\u001b[0;31m       \u001b[0mg\u001b[0m \u001b[0;34m=\u001b[0m \u001b[0m_get_graph_from_inputs\u001b[0m\u001b[0;34m(\u001b[0m\u001b[0mself\u001b[0m\u001b[0;34m.\u001b[0m\u001b[0m_values\u001b[0m\u001b[0;34m)\u001b[0m\u001b[0;34m\u001b[0m\u001b[0m\n\u001b[0m\u001b[1;32m   4929\u001b[0m       \u001b[0mself\u001b[0m\u001b[0;34m.\u001b[0m\u001b[0m_g_manager\u001b[0m \u001b[0;34m=\u001b[0m \u001b[0mg\u001b[0m\u001b[0;34m.\u001b[0m\u001b[0mas_default\u001b[0m\u001b[0;34m(\u001b[0m\u001b[0;34m)\u001b[0m\u001b[0;34m\u001b[0m\u001b[0m\n\u001b[1;32m   4930\u001b[0m       \u001b[0mself\u001b[0m\u001b[0;34m.\u001b[0m\u001b[0m_g_manager\u001b[0m\u001b[0;34m.\u001b[0m\u001b[0m__enter__\u001b[0m\u001b[0;34m(\u001b[0m\u001b[0;34m)\u001b[0m\u001b[0;34m\u001b[0m\u001b[0m\n",
      "\u001b[0;32m~/.anaconda3/envs/railrl-dian/lib/python3.5/site-packages/tensorflow/python/framework/ops.py\u001b[0m in \u001b[0;36m_get_graph_from_inputs\u001b[0;34m(op_input_list, graph)\u001b[0m\n\u001b[1;32m   4634\u001b[0m         \u001b[0mgraph\u001b[0m \u001b[0;34m=\u001b[0m \u001b[0mgraph_element\u001b[0m\u001b[0;34m.\u001b[0m\u001b[0mgraph\u001b[0m\u001b[0;34m\u001b[0m\u001b[0m\n\u001b[1;32m   4635\u001b[0m       \u001b[0;32melif\u001b[0m \u001b[0moriginal_graph_element\u001b[0m \u001b[0;32mis\u001b[0m \u001b[0;32mnot\u001b[0m \u001b[0;32mNone\u001b[0m\u001b[0;34m:\u001b[0m\u001b[0;34m\u001b[0m\u001b[0m\n\u001b[0;32m-> 4636\u001b[0;31m         \u001b[0m_assert_same_graph\u001b[0m\u001b[0;34m(\u001b[0m\u001b[0moriginal_graph_element\u001b[0m\u001b[0;34m,\u001b[0m \u001b[0mgraph_element\u001b[0m\u001b[0;34m)\u001b[0m\u001b[0;34m\u001b[0m\u001b[0m\n\u001b[0m\u001b[1;32m   4637\u001b[0m       \u001b[0;32melif\u001b[0m \u001b[0mgraph_element\u001b[0m\u001b[0;34m.\u001b[0m\u001b[0mgraph\u001b[0m \u001b[0;32mis\u001b[0m \u001b[0;32mnot\u001b[0m \u001b[0mgraph\u001b[0m\u001b[0;34m:\u001b[0m\u001b[0;34m\u001b[0m\u001b[0m\n\u001b[1;32m   4638\u001b[0m         \u001b[0;32mraise\u001b[0m \u001b[0mValueError\u001b[0m\u001b[0;34m(\u001b[0m\u001b[0;34m\"%s is not from the passed-in graph.\"\u001b[0m \u001b[0;34m%\u001b[0m \u001b[0mgraph_element\u001b[0m\u001b[0;34m)\u001b[0m\u001b[0;34m\u001b[0m\u001b[0m\n",
      "\u001b[0;32m~/.anaconda3/envs/railrl-dian/lib/python3.5/site-packages/tensorflow/python/framework/ops.py\u001b[0m in \u001b[0;36m_assert_same_graph\u001b[0;34m(original_item, item)\u001b[0m\n\u001b[1;32m   4570\u001b[0m   \u001b[0;32mif\u001b[0m \u001b[0moriginal_item\u001b[0m\u001b[0;34m.\u001b[0m\u001b[0mgraph\u001b[0m \u001b[0;32mis\u001b[0m \u001b[0;32mnot\u001b[0m \u001b[0mitem\u001b[0m\u001b[0;34m.\u001b[0m\u001b[0mgraph\u001b[0m\u001b[0;34m:\u001b[0m\u001b[0;34m\u001b[0m\u001b[0m\n\u001b[1;32m   4571\u001b[0m     raise ValueError(\"%s must be from the same graph as %s.\" % (item,\n\u001b[0;32m-> 4572\u001b[0;31m                                                                 original_item))\n\u001b[0m\u001b[1;32m   4573\u001b[0m \u001b[0;34m\u001b[0m\u001b[0m\n\u001b[1;32m   4574\u001b[0m \u001b[0;34m\u001b[0m\u001b[0m\n",
      "\u001b[0;31mValueError\u001b[0m: Tensor(\"input_1/strided_slice_1:0\", shape=(), dtype=int32) must be from the same graph as Tensor(\"Const:0\", shape=(6,), dtype=float32)."
     ]
    }
   ],
   "source": [
    "###read poking data###\n",
    "\n",
    "# path = '/media/icm_data/poke_nlc_val_new'\n",
    "addBg = True\n",
    "path = '/media/icm_data/poke_nlc_training_new/'\n",
    "file_names = list([path + '/' + l for l in os.listdir(path)])\n",
    "# print(file_names)\n",
    "pos_imgs, pos_masks, pos_scores, pos_bks = inputs_poking(file_names,pos_max,neg_min, neg_max,\\\n",
    "                                                        batch_size = 40,positive=True, addBg = addBg)\n",
    "neg_imgs, neg_masks, neg_scores, neg_bks = inputs_poking(file_names, pos_max, neg_min, neg_max,\\\n",
    "                                                        batch_size = 40,positive=False, addBg = addBg)\n",
    "\n",
    "##########plot imgs#########\n",
    "coord = tf.train.Coordinator()\n",
    "sess = tf.Session()\n",
    "threads = tf.train.start_queue_runners(sess=sess, coord=coord)\n",
    "\n",
    "pos_imgs_out, pos_masks_out, pos_scores_out, pos_bks_out, neg_imgs_out, neg_mask_out, neg_scores_out, neg_bks_out = \\\n",
    "        sess.run([pos_imgs, pos_masks, pos_scores, pos_bks, neg_imgs, neg_masks, neg_scores, neg_bks])\n",
    "if not addBg:\n",
    "    assert(pos_bks_out[0] == -1)\n",
    "    assert(neg_bks_out[0] == -1)\n",
    "for pos_img, pos_mask, pos_scor, neg_img, neg_mask, neg_scor, pos_bk, neg_bk in zip(pos_imgs_out, \\\n",
    "                                pos_masks_out, pos_scores_out, neg_imgs_out, neg_mask_out, neg_scores_out, pos_bks_out, neg_bks_out):\n",
    "    f, (ax1, ax2, ax3, ax4) = plt.subplots(1,4)\n",
    "    plot_msk(pos_img, pos_mask, pos_scor, ax1)\n",
    "    pos_bk = ((pos_bk + 0.5)*255).astype(np.uint8)\n",
    "    neg_bk = ((neg_bk + 0.5)*255).astype(np.uint8)\n",
    "    ax2.imshow(pos_bk)\n",
    "    ax4.imshow(neg_bk)\n",
    "    plot_msk(neg_img, neg_mask, neg_scor, ax3)\n",
    "    \n",
    "    plt.plot()\n",
    "coord.request_stop()\n",
    "sess.close()"
   ]
  },
  {
   "cell_type": "code",
   "execution_count": null,
   "metadata": {
    "collapsed": true,
    "scrolled": true
   },
   "outputs": [],
   "source": []
  },
  {
   "cell_type": "code",
   "execution_count": null,
   "metadata": {
    "collapsed": true
   },
   "outputs": [],
   "source": []
  },
  {
   "cell_type": "code",
   "execution_count": null,
   "metadata": {
    "collapsed": true
   },
   "outputs": [],
   "source": []
  }
 ],
 "metadata": {
  "kernelspec": {
   "display_name": "Python 3",
   "language": "python",
   "name": "python3"
  },
  "language_info": {
   "codemirror_mode": {
    "name": "ipython",
    "version": 3
   },
   "file_extension": ".py",
   "mimetype": "text/x-python",
   "name": "python",
   "nbconvert_exporter": "python",
   "pygments_lexer": "ipython3",
   "version": "3.5.2"
  },
  "widgets": {
   "state": {},
   "version": "1.1.2"
  }
 },
 "nbformat": 4,
 "nbformat_minor": 2
}
