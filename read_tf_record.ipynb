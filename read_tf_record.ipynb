version https://git-lfs.github.com/spec/v1
oid sha256:cee46e6a0e58c8e9a6d760af54dd5dee8ffe92489d6b4350c1b192df125f1c1f
size 12561113
